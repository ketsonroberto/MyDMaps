{
 "cells": [
  {
   "cell_type": "markdown",
   "id": "054939bb",
   "metadata": {},
   "source": [
    "## Diffusion Maps in Python\n",
    "\n",
    " =============================== Example: Running Unit Tests ==========================================\n",
    " \n",
    "Problem: Run the Unit Tests in ``TestDiffusionMaps``.\n",
    "\n",
    "\n",
    "#### Author: Ketson R. M. dos Santos"
   ]
  },
  {
   "cell_type": "markdown",
   "id": "fe1bd95c",
   "metadata": {},
   "source": [
    "Import the required Python toolboxes:"
   ]
  },
  {
   "cell_type": "code",
   "execution_count": 10,
   "id": "48e9e74c",
   "metadata": {},
   "outputs": [],
   "source": [
    "import numpy as np\n",
    "import matplotlib.pyplot as plt\n",
    "from sklearn.datasets import make_swiss_roll\n",
    "from TestDiffusionMaps import DiffusionMaps, MyTestCase\n",
    "import unittest"
   ]
  },
  {
   "cell_type": "markdown",
   "id": "e0eb031a",
   "metadata": {},
   "source": [
    "From: https://medium.com/@vladbezden/using-python-unittest-in-ipython-or-jupyter-732448724e31\n",
    "\n",
    "unittest.main looks at sys.argv and first parameter is what started IPython or Jupyter, therefore the error about kernel connection file not being a valid attribute. Passing explicit list to unittest.main will prevent IPython and Jupyter look at sys.argv. Passing exit=Fals will prevent unittest.main to shutdown the kernell process."
   ]
  },
  {
   "cell_type": "code",
   "execution_count": 12,
   "id": "c87229d0",
   "metadata": {},
   "outputs": [
    {
     "name": "stderr",
     "output_type": "stream",
     "text": [
      "..\n",
      "----------------------------------------------------------------------\n",
      "Ran 2 tests in 0.533s\n",
      "\n",
      "OK\n"
     ]
    }
   ],
   "source": [
    "# Run unit tests.\n",
    "\n",
    "if __name__ == '__main__':\n",
    "    unittest.main(argv=['first-arg-is-ignored'], exit=False)"
   ]
  },
  {
   "cell_type": "code",
   "execution_count": null,
   "id": "d8ac4c2e",
   "metadata": {},
   "outputs": [],
   "source": []
  }
 ],
 "metadata": {
  "kernelspec": {
   "display_name": "Python 3 (ipykernel)",
   "language": "python",
   "name": "python3"
  },
  "language_info": {
   "codemirror_mode": {
    "name": "ipython",
    "version": 3
   },
   "file_extension": ".py",
   "mimetype": "text/x-python",
   "name": "python",
   "nbconvert_exporter": "python",
   "pygments_lexer": "ipython3",
   "version": "3.9.6"
  }
 },
 "nbformat": 4,
 "nbformat_minor": 5
}
